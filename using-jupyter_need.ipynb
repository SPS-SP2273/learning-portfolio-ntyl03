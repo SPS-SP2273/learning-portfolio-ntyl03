{
 "cells": [
  {
   "cell_type": "code",
   "execution_count": 2,
   "id": "15877aa6",
   "metadata": {},
   "outputs": [
    {
     "name": "stdout",
     "output_type": "stream",
     "text": [
      "Hello World!\n"
     ]
    }
   ],
   "source": [
    "print('Hello World!')"
   ]
  },
  {
   "cell_type": "markdown",
   "id": "bae644bf",
   "metadata": {},
   "source": [
    "The ships hung in the sky in much the same way that bricks don't."
   ]
  },
  {
   "cell_type": "markdown",
   "id": "a57e86f9",
   "metadata": {},
   "source": [
    "The ships *hung in the sky* in much the same way that **bricks don't.** <sup>1</sup><sub>QUOTE</sub>"
   ]
  },
  {
   "cell_type": "markdown",
   "id": "d1379653",
   "metadata": {},
   "source": [
    "`print('Hello World')`"
   ]
  }
 ],
 "metadata": {
  "kernelspec": {
   "display_name": "Python 3 (ipykernel)",
   "language": "python",
   "name": "python3"
  },
  "language_info": {
   "codemirror_mode": {
    "name": "ipython",
    "version": 3
   },
   "file_extension": ".py",
   "mimetype": "text/x-python",
   "name": "python",
   "nbconvert_exporter": "python",
   "pygments_lexer": "ipython3",
   "version": "3.10.8"
  }
 },
 "nbformat": 4,
 "nbformat_minor": 5
}
