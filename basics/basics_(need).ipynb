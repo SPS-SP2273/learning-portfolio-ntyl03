{
 "cells": [
  {
   "cell_type": "markdown",
   "id": "123456",
   "metadata": {},
   "source": [
    "<div style=\"text-align:left;font-size:2em\"><span style=\"font-weight:bolder;font-size:1.25em\">SP2273 | Learning Portfolio</span><br><br><span style=\"font-weight:bold;color:darkred\">Basics (Need)</span></div>"
   ]
  },
  {
   "cell_type": "markdown",
   "id": "b7a14769",
   "metadata": {},
   "source": [
    "## 1 Some Python Basics"
   ]
  },
  {
   "cell_type": "markdown",
   "id": "c559e36a",
   "metadata": {},
   "source": [
    "### 1.1 Functions"
   ]
  },
  {
   "cell_type": "code",
   "execution_count": 1,
   "id": "c09b9ea6",
   "metadata": {},
   "outputs": [
    {
     "name": "stdout",
     "output_type": "stream",
     "text": [
      "Hello world!\n"
     ]
    }
   ],
   "source": [
    "print('Hello world!')"
   ]
  },
  {
   "cell_type": "markdown",
   "id": "0f5b3884",
   "metadata": {},
   "source": [
    "### 1.2 Python is interpreted"
   ]
  },
  {
   "cell_type": "code",
   "execution_count": 2,
   "id": "aaaba320",
   "metadata": {},
   "outputs": [
    {
     "name": "stdout",
     "output_type": "stream",
     "text": [
      "Hello World\n",
      "Hello World again\n"
     ]
    }
   ],
   "source": [
    "print('Hello World')\n",
    "print('Hello World again')"
   ]
  },
  {
   "cell_type": "markdown",
   "id": "2fcbf85c",
   "metadata": {},
   "source": [
    "### 1.3 Python is sensitive."
   ]
  },
  {
   "cell_type": "code",
   "execution_count": 4,
   "id": "bd77e1bc",
   "metadata": {},
   "outputs": [
    {
     "name": "stdout",
     "output_type": "stream",
     "text": [
      "Hello World\n"
     ]
    }
   ],
   "source": [
    "\n",
    "print('Hello World')\n",
    "#Print('Hello World')"
   ]
  },
  {
   "cell_type": "markdown",
   "id": "87a484b3",
   "metadata": {},
   "source": [
    "### 1.4 Comments"
   ]
  },
  {
   "cell_type": "code",
   "execution_count": 5,
   "id": "b26050eb",
   "metadata": {},
   "outputs": [
    {
     "name": "stdout",
     "output_type": "stream",
     "text": [
      "One\n",
      "Three\n"
     ]
    }
   ],
   "source": [
    "# This is a comment\n",
    "print('One')              # This is a comment.\n",
    "# print('Two')            # The interpreter ignores this line.\n",
    "print('Three')            # This is\n",
    "                          # also a way to\n",
    "                          # write comments\n"
   ]
  },
  {
   "cell_type": "markdown",
   "id": "3a831be2",
   "metadata": {},
   "source": [
    "### 1.5 = is not the same as =="
   ]
  },
  {
   "cell_type": "code",
   "execution_count": 12,
   "id": "1254269e",
   "metadata": {},
   "outputs": [
    {
     "data": {
      "text/plain": [
       "(False, True)"
      ]
     },
     "execution_count": 12,
     "metadata": {},
     "output_type": "execute_result"
    }
   ],
   "source": [
    "name = 'Batman' \n",
    "\n",
    "object = 'Apple'\n",
    "object == 'Grape', name == 'Batman'"
   ]
  },
  {
   "cell_type": "markdown",
   "id": "d28d736f",
   "metadata": {},
   "source": [
    "### 1.6 Use if to make decisions"
   ]
  },
  {
   "cell_type": "code",
   "execution_count": 13,
   "id": "3ad5f0f7",
   "metadata": {},
   "outputs": [
    {
     "name": "stdout",
     "output_type": "stream",
     "text": [
      "Hello Food|Potato\n",
      "Hello World!\n"
     ]
    }
   ],
   "source": [
    "food = 'Potato'\n",
    "\n",
    "if food == 'Potato':\n",
    "    print('Hello Food|Potato')\n",
    "else:\n",
    "    print('Hello World!')\n",
    "\n",
    "\n",
    "colour = 'Blue'\n",
    "if colour == 'Pink':\n",
    "    print('Hello colour|Blue')\n",
    "else:\n",
    "    print('Hello World!')"
   ]
  },
  {
   "cell_type": "markdown",
   "id": "cfa171ab",
   "metadata": {},
   "source": [
    "### 1.7 Indentations (spaces) are sooo IMPORTANT!"
   ]
  },
  {
   "cell_type": "code",
   "execution_count": 14,
   "id": "ae00d0d3",
   "metadata": {},
   "outputs": [],
   "source": [
    "\n",
    "# x=10\n",
    "# print(x)\n",
    "\n",
    "#x=10\n",
    "    #print(x)"
   ]
  },
  {
   "cell_type": "markdown",
   "id": "345da442",
   "metadata": {},
   "source": [
    "### 1.8 ‘age’ is English, age is a variable."
   ]
  },
  {
   "cell_type": "code",
   "execution_count": 15,
   "id": "6744de33",
   "metadata": {},
   "outputs": [
    {
     "name": "stdout",
     "output_type": "stream",
     "text": [
      "19\n",
      "age\n"
     ]
    }
   ],
   "source": [
    "age = 19\n",
    "print(age)       # Print the value of the variable age\n",
    "print(\"age\")     # Print the English word 'age'"
   ]
  },
  {
   "cell_type": "markdown",
   "id": "f306d712",
   "metadata": {},
   "source": [
    "### 1.9 Escape sequences"
   ]
  },
  {
   "cell_type": "code",
   "execution_count": 18,
   "id": "4cc52930",
   "metadata": {},
   "outputs": [
    {
     "name": "stdout",
     "output_type": "stream",
     "text": [
      "You're twenty years old.\n",
      "A\\B\\C\n",
      "A\\B\\C\n",
      "A\n",
      "B\n",
      "C\n",
      "A\tB\tC\n"
     ]
    }
   ],
   "source": [
    "print('You\\'re twenty years old.')\n",
    "print('A\\\\B\\\\C')\n",
    "print(\"A\\\\B\\\\C\")\n",
    "print('A\\nB\\nC')\n",
    "print('A\\tB\\tC')"
   ]
  },
  {
   "cell_type": "markdown",
   "id": "355fae36",
   "metadata": {},
   "source": [
    "### 1.10 Brackets"
   ]
  },
  {
   "cell_type": "code",
   "execution_count": 22,
   "id": "ea4201b3",
   "metadata": {},
   "outputs": [
    {
     "name": "stdout",
     "output_type": "stream",
     "text": [
      "Hello!\n",
      "Justice League\n"
     ]
    }
   ],
   "source": [
    "print('Hello!')\n",
    "(1+2)*5\n",
    "py_list=[1,2,3,4,5]\n",
    "py_list_2 = [[1, \"A\"],      # A 2D list\n",
    "             [2, \"B\"],\n",
    "             [3, \"C\"],\n",
    "             [4, \"D\"],\n",
    "             [5, \"E\"]]\n",
    "\n",
    "\n",
    "personal_info = {\n",
    "    'Names': 'Batman',\n",
    "    'Real Name': 'Bruce Wayne',\n",
    "    'Age': 55,\n",
    "    'Affiliation': 'Justice League',\n",
    "    'Universe': 'DC'\n",
    "}\n",
    "print(personal_info['Affiliation'])"
   ]
  },
  {
   "cell_type": "markdown",
   "id": "9a1c1c5a",
   "metadata": {},
   "source": [
    "## 2 Giving Python superpowers"
   ]
  },
  {
   "cell_type": "markdown",
   "id": "90123ecf",
   "metadata": {},
   "source": [
    "### 2.1 Packages"
   ]
  },
  {
   "cell_type": "code",
   "execution_count": 40,
   "id": "17b812b3",
   "metadata": {},
   "outputs": [
    {
     "data": {
      "text/plain": [
       "(2.0, 2.0, array([2., 3., 4.]))"
      ]
     },
     "execution_count": 40,
     "metadata": {},
     "output_type": "execute_result"
    }
   ],
   "source": [
    "#1 * ((2 - 3) + 4) ** 5 / 6\n",
    "#sqrt (4)\n",
    "import math\n",
    "\n",
    "import numpy as np\n",
    "\n",
    "math.sqrt(4), np.sqrt(4), np.sqrt([4,9,16]) #math.sqrt([4,9,16])\n",
    "\n"
   ]
  },
  {
   "cell_type": "markdown",
   "id": "f74df6ad",
   "metadata": {},
   "source": [
    "### 2.2 The dot (.)"
   ]
  },
  {
   "cell_type": "code",
   "execution_count": 43,
   "id": "fbe905a4",
   "metadata": {},
   "outputs": [
    {
     "data": {
      "text/plain": [
       "(2.0, 2.0, ['I', 'am', 'Batman'])"
      ]
     },
     "execution_count": 43,
     "metadata": {},
     "output_type": "execute_result"
    }
   ],
   "source": [
    "math. sqrt (4), np. sqrt (4), \"I am Batman\".split(), #1234.split()\n"
   ]
  },
  {
   "cell_type": "markdown",
   "id": "b0a12df6",
   "metadata": {},
   "source": [
    "## Exercise 1 :  Total recall?"
   ]
  },
  {
   "cell_type": "markdown",
   "id": "47fbfeeb",
   "metadata": {},
   "source": [
    "1. a dot indicates ownership. For example, np. sqrt means using the sqrt() function that belongs to NumPy.\n",
    "\n",
    "2. we can define variables. For example, name = 'Nichole'. The variable, name, will now carry 'Nichole'.\n",
    "\n",
    "3. we can ask either or questions. For example,\n",
    "\n",
    "```python\n",
    "name = 'Nichole'\n",
    "\n",
    "if name == 'Nichole':\n",
    "\n",
    "    print('Hi Nichole!')\n",
    "    \n",
    "else:\n",
    "\n",
    "    print('Hello World')\n",
    "```\n",
    "    \n",
    "*use if statements to ask questions, results will be True or False*\n",
    "\n",
    "4. Indentations are important\n",
    "*indentations are used to eg. separate True and False 'blocks'. Also, do not mix spaces  and tabs.*\n",
    "```python\n",
    "x = 10\n",
    "print(x)     # This works\n",
    "\n",
    "x = 10\n",
    "    print(x) # This doesn't work\n",
    "    \n",
    "\n",
    "5. Python is case sensitive \n",
    "\n",
    "```python\n",
    "print('Hello World')      # This WILL work\n",
    "Print('Hello World')      # This will NOT work\n",
    "```\n",
    "\n",
    "6. print() is a function that tells Python what to do and present as an output. \n",
    "\n",
    "7. using # makes something a comment which will be ignored.\n",
    "\n",
    "8. = and == are different. = means it assigns a value to eg. a variable, while == asks a question.\n",
    "\n",
    "```python\n",
    "food = 'potato'  # Make food carry 'potato'\n",
    "food == 'potato' # Does food equal to 'potato'? Answer will either be True or False\n",
    "```\n",
    "\n",
    "*9. variables and English are different. If enclosed by \"\", it is English. Otherwise, it is registered a variable name.*\n",
    "```python\n",
    "print(food)  # Print the value of the variable food\n",
    "print(\"food\") # Print the English word 'food'\n",
    "```\n",
    "\n",
    "*10. assign a variable with its value first.*\n",
    "\n",
    "\n",
    "*11. escape sequences can allow you to just stick with using either '' pair or \"\" pair. Escape sequences involve backslashes. You can use it to insert single quote, backslash, newline, horizontal tab.*\n",
    "```python\n",
    "print('You\\'re twenty years old.')  # Uses \\' for inserting single quote\n",
    "print('A\\\\B\\\\C')                    # Uses \\\\ for inserting backslash\n",
    "print(\"A\\\\B\\\\C\")                    # Uses \\\\ also, just using \"\" instead of '' \n",
    "print('A\\nB\\nC')                    # Uses \\n for inserting newline\n",
    "print('A\\tB\\tC')                    # Uses \\t for inserting horizontal tab\n",
    "```\n",
    "\n",
    "*12. the 3 bracket types are used differently. () is used in calls to function, for mathematics, while [] is used for lists of data and {} is used to store data that use a key to identify a value through creating a dictionary.*\n",
    "\n",
    "*13. dictionary allows easy access to information with a key.*\n",
    "\n",
    "*14. can import packages, and only need to do so once per jupyter notebook.*"
   ]
  },
  {
   "cell_type": "markdown",
   "id": "01b4becc",
   "metadata": {},
   "source": [
    "## Exercise 2 :  Debug me"
   ]
  },
  {
   "cell_type": "code",
   "execution_count": 51,
   "id": "b61028bc",
   "metadata": {},
   "outputs": [
    {
     "name": "stdout",
     "output_type": "stream",
     "text": [
      "3 4 5.0\n"
     ]
    }
   ],
   "source": [
    "#x, y = 3, 4\n",
    "        #z = sqrt(x*2 + y**2)\n",
    "    #Print(x, y, z)\n",
    "    \n",
    "    \n",
    "x, y = 3, 4\n",
    "z = np.sqrt(x**2 + y**2)\n",
    "print(x, y, z)\n",
    "\n"
   ]
  },
  {
   "cell_type": "markdown",
   "id": "ab8ccb7f",
   "metadata": {},
   "source": [
    "## Exercise 3 :  In your own words"
   ]
  },
  {
   "cell_type": "markdown",
   "id": "6a8444bf",
   "metadata": {},
   "source": [
    "|#|Term|Description|\n",
    "|-|:-|:-|\n",
    "|1|Function|Something that does a specific task|\n",
    "|2|Arguments|An input into a function|\n",
    "|3|Comments|information that will be ignored and not be reflected in the output|\n",
    "|4|Indentations|to indicate blocks of code, such as separating True and False 'blocks'.|\n",
    "|5|Packages|A set of functions that can be imported into Python and impart newer functionality|\n",
    "|6|.|Indicates ownership, as in what the function belongs to|"
   ]
  },
  {
   "cell_type": "markdown",
   "id": "ba35abd4",
   "metadata": {},
   "source": [
    "## Exercise 4 :  More than one way to divide"
   ]
  },
  {
   "cell_type": "code",
   "execution_count": 57,
   "id": "13a56fbf",
   "metadata": {},
   "outputs": [
    {
     "name": "stdout",
     "output_type": "stream",
     "text": [
      "6.75\n",
      "6\n",
      "3\n"
     ]
    }
   ],
   "source": [
    "print(27/4)           # the use of / gives an answer in decimals, as exact as possible.\n",
    "print(27//4)          # the use of // gives the quotient.\n",
    "print(27%4)           # the use of % gives the remainder. In this case, 5 divided by 2 gives remainder 1.\n",
    "\n",
    "\n"
   ]
  }
 ],
 "metadata": {
  "kernelspec": {
   "display_name": "Python 3 (ipykernel)",
   "language": "python",
   "name": "python3"
  },
  "language_info": {
   "codemirror_mode": {
    "name": "ipython",
    "version": 3
   },
   "file_extension": ".py",
   "mimetype": "text/x-python",
   "name": "python",
   "nbconvert_exporter": "python",
   "pygments_lexer": "ipython3",
   "version": "3.10.8"
  },
  "toc": {
   "base_numbering": 1,
   "nav_menu": {},
   "number_sections": true,
   "sideBar": true,
   "skip_h1_title": false,
   "title_cell": "Table of Contents",
   "title_sidebar": "Contents",
   "toc_cell": false,
   "toc_position": {},
   "toc_section_display": true,
   "toc_window_display": false
  },
  "varInspector": {
   "cols": {
    "lenName": 16,
    "lenType": 16,
    "lenVar": 40
   },
   "kernels_config": {
    "python": {
     "delete_cmd_postfix": "",
     "delete_cmd_prefix": "del ",
     "library": "var_list.py",
     "varRefreshCmd": "print(var_dic_list())"
    },
    "r": {
     "delete_cmd_postfix": ") ",
     "delete_cmd_prefix": "rm(",
     "library": "var_list.r",
     "varRefreshCmd": "cat(var_dic_list()) "
    }
   },
   "types_to_exclude": [
    "module",
    "function",
    "builtin_function_or_method",
    "instance",
    "_Feature"
   ],
   "window_display": false
  },
  "vscode": {
   "interpreter": {
    "hash": "31f2aee4e71d21fbe5cf8b01ff0e069b9275f58929596ceb00d14d90e3e16cd6"
   }
  }
 },
 "nbformat": 4,
 "nbformat_minor": 5
}
