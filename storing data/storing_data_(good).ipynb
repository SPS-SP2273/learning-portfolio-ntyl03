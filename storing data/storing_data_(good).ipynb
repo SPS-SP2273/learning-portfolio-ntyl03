{
 "cells": [
  {
   "cell_type": "markdown",
   "id": "123456",
   "metadata": {},
   "source": [
    "<div style=\"text-align:left;font-size:2em\"><span style=\"font-weight:bolder;font-size:1.25em\">SP2273 | Learning Portfolio</span><br><br><span style=\"font-weight:bold;color:darkred\">Storing Data (Good)</span></div>"
   ]
  },
  {
   "cell_type": "markdown",
   "id": "959dce39",
   "metadata": {},
   "source": [
    "## 1 Subsetting: Indexing and Slicing"
   ]
  },
  {
   "cell_type": "markdown",
   "id": "bbd0785c",
   "metadata": {},
   "source": [
    "### 1.1 Indexing & Slicing 1D (Lists & Arrays)"
   ]
  },
  {
   "cell_type": "code",
   "execution_count": 24,
   "id": "ad7b8153",
   "metadata": {},
   "outputs": [
    {
     "data": {
      "text/plain": [
       "(['b2', 'c3', 'd4', 'e5'], ['b2', 'd4', 'f6'])"
      ]
     },
     "execution_count": 24,
     "metadata": {},
     "output_type": "execute_result"
    }
   ],
   "source": [
    "py_list=[\"a1\", \"b2\", \"c3\", \"d4\", \"e5\",\n",
    "         \"f6\", \"g7\", \"h8\", \"i9\", \"j10\"]\n",
    "np_array=np.array(py_list)\n",
    "\n",
    "\n",
    "x = py_list  #OR x = np_array \n",
    "             #(applies to both lists and arrays)\n",
    "    \n",
    "x[1:5], x[1:6:2]\n",
    "#If you slice with [i:j], the slice will start at i and end at j-1, giving you a total of j-i elements."
   ]
  },
  {
   "cell_type": "markdown",
   "id": "af430f10",
   "metadata": {},
   "source": [
    "### 1.2 Subsetting by masking (Arrays only)"
   ]
  },
  {
   "cell_type": "code",
   "execution_count": 104,
   "id": "95f5cf4f",
   "metadata": {},
   "outputs": [
    {
     "name": "stdout",
     "output_type": "stream",
     "text": [
      "[False False False  True  True  True  True  True  True  True]\n"
     ]
    },
    {
     "data": {
      "text/plain": [
       "array([ 1,  2,  9, 10])"
      ]
     },
     "execution_count": 104,
     "metadata": {},
     "output_type": "execute_result"
    }
   ],
   "source": [
    "np_array = np.array([1, 2, 3, 4, 5, 6, 7, 8, 9, 10])\n",
    "my_mask = np_array > 3\n",
    "print(my_mask)\n",
    "\n",
    "np_array[my_mask]  #showing only those that are True aka > 3\n",
    "\n",
    "#To do it succintly:\n",
    "np_array[np_array > 3]\n",
    "np_array[~(np_array > 3)]                     # '~' means 'NOT'\n",
    "np_array[(np_array > 3) & (np_array < 8)]     # '&' means 'AND'\n",
    "np_array[(np_array < 3) | (np_array > 8)]         # '|' means 'OR'\n"
   ]
  },
  {
   "cell_type": "markdown",
   "id": "6b23524f",
   "metadata": {},
   "source": [
    "### 1.3 Indexing & Slicing 2D Lists"
   ]
  },
  {
   "cell_type": "code",
   "execution_count": 37,
   "id": "8f32264f",
   "metadata": {},
   "outputs": [
    {
     "data": {
      "text/plain": [
       "[5, 'E']"
      ]
     },
     "execution_count": 37,
     "metadata": {},
     "output_type": "execute_result"
    }
   ],
   "source": [
    "py_list_2d = [[1, \"A\"], [2, \"B\"], [3, \"C\"], [4, \"D\"],\n",
    "              [5, \"E\"], [6, \"F\"], [7, \"G\"], [8, \"H\"],\n",
    "              [9, \"I\"], [10, \"J\"]]\n",
    "\n",
    "py_list_2d[3]        # What is at position 4 (index 3)?\n",
    "py_list_2d[3][0]     # FIRST element at position 4 (index 3)\n",
    "py_list_2d[3][1]     # SECOND element at position 4 (index 3)\n",
    "py_list_2d[:3]\n",
    "py_list_2d[:3][0]    #FIRST of the list from py_list_2d[:3]\n",
    "py_list_2d[3:6]\n",
    "py_list_2d[3:6][1]"
   ]
  },
  {
   "cell_type": "markdown",
   "id": "bf37f753",
   "metadata": {},
   "source": [
    "### 1.4 Indexing & Slicing 2D Arrays"
   ]
  },
  {
   "cell_type": "code",
   "execution_count": 43,
   "id": "b5d4e37a",
   "metadata": {},
   "outputs": [
    {
     "data": {
      "text/plain": [
       "array(['A', 'B', 'C', 'D', 'E', 'F', 'G', 'H', 'I', 'J'], dtype='<U11')"
      ]
     },
     "execution_count": 43,
     "metadata": {},
     "output_type": "execute_result"
    }
   ],
   "source": [
    "np_array_2d = np.array([[1, \"A\"], [2, \"B\"], [3, \"C\"], [4, \"D\"],\n",
    "                        [5, \"E\"], [6, \"F\"], [7, \"G\"], [8, \"H\"],\n",
    "                        [9, \"I\"], [10, \"J\"]])\n",
    "np_array_2d[3]       # What is at position 4 (index 3)?\n",
    "np_array_2d[3, 0]    # FIRST element at position 4 (index 3)\n",
    "                     # notice the use of a comma and a single pair of [] for arrays\n",
    "\n",
    "np_array_2d[:3]\n",
    "np_array_2d[:3, 0]\n",
    "np_array_2d[3:6, 0]\n",
    "np_array_2d[:, 0]    # use ':' if u want to include everything\n",
    "np_array_2d[:,1]\n",
    "\n",
    "#remember that for arrays, operations act on each element separately. This seems to apply to 2D lists as well"
   ]
  },
  {
   "cell_type": "markdown",
   "id": "226c6edd",
   "metadata": {},
   "source": [
    "### 1.5 Growing lists"
   ]
  },
  {
   "cell_type": "code",
   "execution_count": 49,
   "id": "3622596a",
   "metadata": {},
   "outputs": [
    {
     "data": {
      "text/plain": [
       "[1, 2, 3, 4]"
      ]
     },
     "execution_count": 49,
     "metadata": {},
     "output_type": "execute_result"
    }
   ],
   "source": [
    "x=[1]*10\n",
    "x               # I am lazy to type print()\n",
    "                # Let Jupyter do the hard work.\n",
    "x=[1]           # appending one element at a time\n",
    "x= x + [2]\n",
    "x= x + [3]\n",
    "x= x + [4]\n",
    "x\n",
    "\n",
    "x=[1]         \n",
    "x+= [2]\n",
    "x+= [3]\n",
    "x+= [4]\n",
    "x\n",
    "\n",
    "x=[1]          # appending multiple elements in one go\n",
    "x+= [2, 3, 4]\n",
    "x\n",
    "\n",
    "x=[1]            #pre-pending stuff\n",
    "x= [2, 3, 4] + x\n",
    "x\n",
    "\n",
    "x=[1]            #using the function append()\n",
    "x.append(2)\n",
    "x.append(3)\n",
    "x.append(4)\n",
    "x"
   ]
  },
  {
   "cell_type": "markdown",
   "id": "300f7d43",
   "metadata": {},
   "source": [
    "## 2 Some loose ends"
   ]
  },
  {
   "cell_type": "markdown",
   "id": "22137195",
   "metadata": {},
   "source": [
    "### 2.1 Tuples"
   ]
  },
  {
   "cell_type": "code",
   "execution_count": 52,
   "id": "86819ba0",
   "metadata": {},
   "outputs": [
    {
     "name": "stdout",
     "output_type": "stream",
     "text": [
      "1\n"
     ]
    }
   ],
   "source": [
    "a=(1, 2, 3)     # Define tuple\n",
    "print(a[0])    # Access data\n",
    "\n",
    "# The following will NOT work bc cannot change data in tuples\n",
    "#a[0]=-1\n",
    "#a[0] += [10]"
   ]
  },
  {
   "cell_type": "markdown",
   "id": "f2cf01f3",
   "metadata": {},
   "source": [
    "### 2.2 Be VERY careful when copying"
   ]
  },
  {
   "cell_type": "code",
   "execution_count": 55,
   "id": "9e19529f",
   "metadata": {},
   "outputs": [
    {
     "data": {
      "text/plain": [
       "([1, 2, 3], [1, 2, 3])"
      ]
     },
     "execution_count": 55,
     "metadata": {},
     "output_type": "execute_result"
    }
   ],
   "source": [
    "x=[1, 2, 3]\n",
    "#y=x           # DON'T do this!\n",
    "#z=x           # DON'T do this!\n",
    "\n",
    "#instead do this:\n",
    "y=x.copy()\n",
    "z=x.copy()\n",
    "y, z"
   ]
  },
  {
   "cell_type": "markdown",
   "id": "cd686dbb",
   "metadata": {},
   "source": [
    "## Exercise 1 :  Total recall?"
   ]
  },
  {
   "cell_type": "markdown",
   "id": "3446d252",
   "metadata": {},
   "source": [
    "|Term | Brief description |\n",
    "|:-|:-|\n",
    "|Subsetting|Selecting a subset of data elements in a list/array|\n",
    "|Indexing|Selecting one element in a list/array|\n",
    "|Slicing|selecting a range of elements from a full range of data elements in a list/array|\n",
    "|Masking|a form of subsetting, _filters data sets based on a specific criteria, eg. by True/False outputs to questions, to get elements you want_|\n",
    "\n",
    "_I am not sure how to properly define masking_\n"
   ]
  },
  {
   "cell_type": "markdown",
   "id": "4158d0b1",
   "metadata": {},
   "source": [
    "## Exercise 2 :  Show me the ‘odd’ letters"
   ]
  },
  {
   "cell_type": "code",
   "execution_count": 12,
   "id": "3928abdb",
   "metadata": {},
   "outputs": [
    {
     "name": "stdout",
     "output_type": "stream",
     "text": [
      "[ True  True False False  True  True False False False  True]\n",
      "['A' 'C' 'E' 'G' 'I']\n"
     ]
    }
   ],
   "source": [
    "np_array_2d = np.array([[1, \"A\"], [3, \"C\"], [2, \"B\"], [4, \"D\"],\n",
    "                        [5, \"E\"], [7, \"G\"], [6, \"F\"], [8, \"H\"],\n",
    "                        [10, \"J\"], [9, \"I\"]])\n",
    "subset_array = np_array_2d[:, 0]    #subset all the first elements\n",
    "\n",
    "integers_array = subset_array.astype(int)       # convert all first elements to integers\n",
    "\n",
    "integers_array\n",
    "\n",
    "remainder_array = integers_array%2    #dividing by 2 and getting the remainder\n",
    "\n",
    "remainder_array  \n",
    "\n",
    "my_mask = remainder_array == 1     #filtering odd numbers as they leave remainder 1 when divided by 2 \n",
    "print(my_mask)                     # True False outputs. Printed this array just for own reference\n",
    "\n",
    "np_array_2d[my_mask]   #locations of the odd numbers (\"layering\" the mask unto the first array at the top, and selecting only the \"true\" elements)\n",
    "\n",
    "print (np_array_2d[my_mask, 1]) \n"
   ]
  }
 ],
 "metadata": {
  "kernelspec": {
   "display_name": "Python 3 (ipykernel)",
   "language": "python",
   "name": "python3"
  },
  "language_info": {
   "codemirror_mode": {
    "name": "ipython",
    "version": 3
   },
   "file_extension": ".py",
   "mimetype": "text/x-python",
   "name": "python",
   "nbconvert_exporter": "python",
   "pygments_lexer": "ipython3",
   "version": "3.10.8"
  },
  "toc": {
   "base_numbering": 1,
   "nav_menu": {},
   "number_sections": true,
   "sideBar": true,
   "skip_h1_title": false,
   "title_cell": "Table of Contents",
   "title_sidebar": "Contents",
   "toc_cell": false,
   "toc_position": {},
   "toc_section_display": true,
   "toc_window_display": false
  },
  "varInspector": {
   "cols": {
    "lenName": 16,
    "lenType": 16,
    "lenVar": 40
   },
   "kernels_config": {
    "python": {
     "delete_cmd_postfix": "",
     "delete_cmd_prefix": "del ",
     "library": "var_list.py",
     "varRefreshCmd": "print(var_dic_list())"
    },
    "r": {
     "delete_cmd_postfix": ") ",
     "delete_cmd_prefix": "rm(",
     "library": "var_list.r",
     "varRefreshCmd": "cat(var_dic_list()) "
    }
   },
   "types_to_exclude": [
    "module",
    "function",
    "builtin_function_or_method",
    "instance",
    "_Feature"
   ],
   "window_display": false
  },
  "vscode": {
   "interpreter": {
    "hash": "31f2aee4e71d21fbe5cf8b01ff0e069b9275f58929596ceb00d14d90e3e16cd6"
   }
  }
 },
 "nbformat": 4,
 "nbformat_minor": 5
}
