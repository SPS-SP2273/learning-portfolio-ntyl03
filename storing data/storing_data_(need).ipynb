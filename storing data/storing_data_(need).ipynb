{
 "cells": [
  {
   "cell_type": "markdown",
   "id": "123456",
   "metadata": {},
   "source": [
    "<div style=\"text-align:left;font-size:2em\"><span style=\"font-weight:bolder;font-size:1.25em\">SP2273 | Learning Portfolio</span><br><br><span style=\"font-weight:bold;color:darkred\">Storing Data (Need)</span></div>"
   ]
  },
  {
   "cell_type": "markdown",
   "id": "effaf650",
   "metadata": {},
   "source": [
    "## 1 Lists, Arrays & Dictionaries"
   ]
  },
  {
   "cell_type": "markdown",
   "id": "07afa524",
   "metadata": {},
   "source": [
    "### 1.1 Let’s compare"
   ]
  },
  {
   "cell_type": "code",
   "execution_count": 5,
   "id": "977b8e0a",
   "metadata": {},
   "outputs": [],
   "source": [
    "import numpy as np\n",
    "\n",
    "py_super_names = [\"Black Widow\", \"Iron Man\", \"Doctor Strange\"]\n",
    "py_real_names = [\"Natasha Romanoff\", \"Tony Stark\", \"Stephen Strange\"]\n",
    "#py = python lists\n",
    "\n",
    "np_super_names = np.array([\"Black Widow\", \"Iron Man\", \"Doctor Strange\"])\n",
    "np_real_names = np.array([\"Natasha Romanoff\", \"Tony Stark\", \"Stephen Strange\"])\n",
    "#np = numpy arrays\n",
    "\n",
    "superhero_info = {\"Natasha Romanoff\": \"Black Widow\",\n",
    "                  \"Tony Stark\": \"Iron Man\",\n",
    "                  \"Stephen Strange\": \"Doctor Strange\"\n",
    "                  }\n",
    "#dictionary. use of a key and an associated value separated by a : \n",
    "\n",
    "#for lists and arrays, order matters! and need 2 sets for this example"
   ]
  },
  {
   "cell_type": "markdown",
   "id": "151615f2",
   "metadata": {},
   "source": [
    "### 1.2 Accessing data from a list (or array)"
   ]
  },
  {
   "cell_type": "code",
   "execution_count": 9,
   "id": "cb7f3712",
   "metadata": {},
   "outputs": [
    {
     "name": "stdout",
     "output_type": "stream",
     "text": [
      "Tony Stark\n",
      "Iron Man\n",
      "Stephen Strange\n",
      "Stephen Strange\n"
     ]
    }
   ],
   "source": [
    "print(py_real_names[1])\n",
    "print(py_super_names[1])\n",
    "\n",
    "print(py_real_names[-1])\n",
    "print(py_real_names[2])"
   ]
  },
  {
   "cell_type": "markdown",
   "id": "3f25445a",
   "metadata": {},
   "source": [
    "### 1.3 Accessing data from a dictionary"
   ]
  },
  {
   "cell_type": "code",
   "execution_count": 16,
   "id": "5ed2e45a",
   "metadata": {},
   "outputs": [
    {
     "name": "stdout",
     "output_type": "stream",
     "text": [
      "Black Widow\n"
     ]
    },
    {
     "data": {
      "text/plain": [
       "(dict_keys(['Natasha Romanoff', 'Tony Stark', 'Stephen Strange']),\n",
       " dict_values(['Black Widow', 'Iron Man', 'Doctor Strange']))"
      ]
     },
     "execution_count": 16,
     "metadata": {},
     "output_type": "execute_result"
    }
   ],
   "source": [
    "print(superhero_info[\"Natasha Romanoff\"])\n",
    "\n",
    "# print(superhero_info[\"Black Widow\"]) will not work. \n",
    "\n",
    "superhero_info.keys(), superhero_info.values()\n"
   ]
  },
  {
   "cell_type": "markdown",
   "id": "c3cdd8c9",
   "metadata": {},
   "source": [
    "### 1.4 Higher dimensional lists"
   ]
  },
  {
   "cell_type": "code",
   "execution_count": 17,
   "id": "0b81f8a5",
   "metadata": {},
   "outputs": [
    {
     "name": "stdout",
     "output_type": "stream",
     "text": [
      "['Tony Stark', 'Iron Man']\n"
     ]
    }
   ],
   "source": [
    "py_superhero_info = [['Natasha Romanoff', 'Black Widow'],\n",
    "                     ['Tony Stark', 'Iron Man'],\n",
    "                     ['Stephen Strange', 'Doctor Strange']]\n",
    "\n",
    "print(py_superhero_info[1])\n"
   ]
  },
  {
   "cell_type": "markdown",
   "id": "3a48bd02",
   "metadata": {},
   "source": [
    "## 2 Lists vs. Arrays"
   ]
  },
  {
   "cell_type": "markdown",
   "id": "d7c1533a",
   "metadata": {},
   "source": [
    "### 2.1 Size"
   ]
  },
  {
   "cell_type": "code",
   "execution_count": 26,
   "id": "445caf2d",
   "metadata": {},
   "outputs": [
    {
     "data": {
      "text/plain": [
       "(10, 10, (10, 2))"
      ]
     },
     "execution_count": 26,
     "metadata": {},
     "output_type": "execute_result"
    }
   ],
   "source": [
    "\n",
    "py_list_2d = [[1, \"A\"], [2, \"B\"], [3, \"C\"], [4, \"D\"],\n",
    "              [5, \"E\"], [6, \"F\"], [7, \"G\"], [8, \"H\"],\n",
    "              [9, \"I\"], [10, \"J\"]]\n",
    "\n",
    "np_array_2d = np.array(py_list_2d)      # Reusing the Python list \n",
    "                                        # to create a NEW\n",
    "                                        # NumPy array\n",
    "\n",
    "len(py_list_2d), len(np_array_2d), np_array_2d.shape\n"
   ]
  },
  {
   "cell_type": "markdown",
   "id": "31b6c87e",
   "metadata": {},
   "source": [
    "### 2.2 Arrays are fussy about type"
   ]
  },
  {
   "cell_type": "code",
   "execution_count": 27,
   "id": "68166b38",
   "metadata": {},
   "outputs": [
    {
     "data": {
      "text/plain": [
       "array(['1', '1.5', 'A'], dtype='<U32')"
      ]
     },
     "execution_count": 27,
     "metadata": {},
     "output_type": "execute_result"
    }
   ],
   "source": [
    "# NumPy arrays tolerate only a single data type while python lists can accommodate more than one data type\n",
    "py_list = [1, 1.5, 'A']\n",
    "np.array(py_list)\n",
    "#numbers converted to english with ''\n",
    "#KIV: can easily change type (typecast) using function astypes()"
   ]
  },
  {
   "cell_type": "markdown",
   "id": "2b24d0da",
   "metadata": {},
   "source": [
    "### 2.3 Adding a number"
   ]
  },
  {
   "cell_type": "code",
   "execution_count": 30,
   "id": "de5cd32d",
   "metadata": {},
   "outputs": [
    {
     "data": {
      "text/plain": [
       "array([11, 12, 13, 14, 15])"
      ]
     },
     "execution_count": 30,
     "metadata": {},
     "output_type": "execute_result"
    }
   ],
   "source": [
    "py_list = [1, 2, 3, 4, 5]\n",
    "np_array = np.array(py_list)         # Reusing the Python list\n",
    "                                     # to create a NEW\n",
    "                                     # NumPy array\n",
    "# py_list + 10 doesn't work\n",
    "\n",
    "np_array + 10"
   ]
  },
  {
   "cell_type": "markdown",
   "id": "80b1dca7",
   "metadata": {},
   "source": [
    "### 2.4 Adding another list"
   ]
  },
  {
   "cell_type": "code",
   "execution_count": 35,
   "id": "58395da5",
   "metadata": {},
   "outputs": [
    {
     "data": {
      "text/plain": [
       "([1, 2, 3, 4, 5, 10, 20, 30, 40, 50], array([11, 22, 33, 44, 55]))"
      ]
     },
     "execution_count": 35,
     "metadata": {},
     "output_type": "execute_result"
    }
   ],
   "source": [
    "py_list_1 = [1, 2, 3, 4, 5]\n",
    "py_list_2 = [10, 20, 30, 40, 50]\n",
    "\n",
    "np_array_1 = np.array(py_list_1)\n",
    "np_array_2 = np.array(py_list_2)\n",
    "\n",
    "\n",
    "py_list_1 + py_list_2, np_array_1 + np_array_2\n",
    "# adding Python lists together results in a new list containing all the original data\n",
    "# adding Numpy arrays together results in a new list containing the original data added together based on their sequence in the lists. For this to work, the original lists must contain the same number of data!"
   ]
  },
  {
   "cell_type": "markdown",
   "id": "2b6e1e80",
   "metadata": {},
   "source": [
    "### 2.5 Multiplying by a Number"
   ]
  },
  {
   "cell_type": "code",
   "execution_count": 37,
   "id": "e7b960d5",
   "metadata": {},
   "outputs": [
    {
     "data": {
      "text/plain": [
       "([1, 2, 3, 4, 5, 1, 2, 3, 4, 5], array([ 2,  4,  6,  8, 10]))"
      ]
     },
     "execution_count": 37,
     "metadata": {},
     "output_type": "execute_result"
    }
   ],
   "source": [
    "py_list = [1, 2, 3, 4, 5]\n",
    "np_array = np.array(py_list)         \n",
    "\n",
    "py_list*2, np_array*2\n",
    "#multiplying by a number makes a list repeat itself that number of times and grow, but multiplying by a number makes an array multiply its data elements by the number"
   ]
  },
  {
   "cell_type": "markdown",
   "id": "e00ee689",
   "metadata": {},
   "source": [
    "### 2.6 Squaring"
   ]
  },
  {
   "cell_type": "code",
   "execution_count": 44,
   "id": "e6beef16",
   "metadata": {},
   "outputs": [
    {
     "data": {
      "text/plain": [
       "(array([ 1,  4,  9, 16, 25]), array([ 8, 11, 16, 23, 32]))"
      ]
     },
     "execution_count": 44,
     "metadata": {},
     "output_type": "execute_result"
    }
   ],
   "source": [
    "py_list = [1, 2, 3, 4, 5]\n",
    "np_array = np.array(py_list)\n",
    "\n",
    "#py_list**2 will not work\n",
    "np_array**2, np_array**2 + 7\n",
    "# array squares its data elements by the number"
   ]
  },
  {
   "cell_type": "markdown",
   "id": "7e6473d0",
   "metadata": {},
   "source": [
    "### 2.7 Asking questions"
   ]
  },
  {
   "cell_type": "code",
   "execution_count": 62,
   "id": "e5a626db",
   "metadata": {},
   "outputs": [
    {
     "data": {
      "text/plain": [
       "array([False, False, False,  True,  True])"
      ]
     },
     "execution_count": 62,
     "metadata": {},
     "output_type": "execute_result"
    }
   ],
   "source": [
    "py_list = [1, 2, 3, 4, 5]\n",
    "np_array = np.array(py_list)   \n",
    "\n",
    "py_list == 3, py_list == [3], py_list == [1, 2, 3, 4, 5]\n",
    "#this asks whether py_list is exactly the same as whatever is to the right of ==\n",
    "\n",
    "# py_list > 3 will not work\n",
    "\n",
    "np_array == 3\n",
    "#this asks whether each data element in the array is 3\n",
    "\n",
    "np_array > 3\n",
    "#this asks whether each data element in the array is greater than 3"
   ]
  },
  {
   "cell_type": "markdown",
   "id": "172abc8a",
   "metadata": {},
   "source": [
    "### 2.8 Mathematics"
   ]
  },
  {
   "cell_type": "code",
   "execution_count": 71,
   "id": "5ac1ae4a",
   "metadata": {},
   "outputs": [
    {
     "data": {
      "text/plain": [
       "1"
      ]
     },
     "execution_count": 71,
     "metadata": {},
     "output_type": "execute_result"
    }
   ],
   "source": [
    "py_list = [1, 2, 3, 4, 5]\n",
    "np_array = np.array(py_list)         \n",
    "\n",
    "sum(py_list) #sum() is a base Python function, adds all data elements together\n",
    "\n",
    "max(py_list) #max() is a base Python function, states largest data element in the list\n",
    "\n",
    "min(py_list) #min() is a base Python function, states smallest data element in the list\n",
    "\n",
    "#py_list.sum() wont work\n",
    "\n",
    "np_array.sum()\n",
    "np_array.mean() # gets the mean value of all data elements in the array\n",
    "np_array.max()\n",
    "np_array.min()\n",
    "\n",
    "#Overall, generally speaking, an operation on a list works on the WHOLE list while that on an array works on the INDIVIDUAL elements of the array"
   ]
  },
  {
   "cell_type": "markdown",
   "id": "6103b493",
   "metadata": {},
   "source": [
    "## Exercise 1 :  Total recall?"
   ]
  },
  {
   "cell_type": "markdown",
   "id": "5ce537a8",
   "metadata": {},
   "source": [
    "2 similarities between lists and arrays:\n",
    "1. lists and arrays serve to store data\n",
    "2. both do not use a key and an associated value like dictionaries do (but can use a 2D list/array)\n",
    "\n",
    "2 differences between lists and arrays:\n",
    "1. an operation on a list works on the whole list but an operation on an array works on each individual data element of the array\n",
    "2. arrays can only tolerate a single data type but lists can accommodate more than one data type.\n",
    "\n",
    "A dictionary is also a way to store data, but uses a key and an associated value separated by a colon. In a sense, there is an input and output?"
   ]
  },
  {
   "cell_type": "markdown",
   "id": "05961a80",
   "metadata": {},
   "source": [
    "## Exercise 2 :  Index me"
   ]
  },
  {
   "cell_type": "code",
   "execution_count": 72,
   "id": "d7add186",
   "metadata": {},
   "outputs": [
    {
     "name": "stdout",
     "output_type": "stream",
     "text": [
      "a1\n",
      "c3\n",
      "e5\n",
      "g7\n",
      "i9\n"
     ]
    }
   ],
   "source": [
    "py_list = [\"a1\", \"b2\", \"c3\", \"d4\", \"e5\", \"f6\", \"g7\", \"h8\", \"i9\", \"j10\"]\n",
    "print(py_list[0])   # Prints 'a1'\n",
    "print(py_list[2])   # Prints 'c3'\n",
    "print(py_list[4])   # Prints 'e5'\n",
    "print(py_list[6])   # Prints 'g7'\n",
    "print(py_list[8])   # Prints 'i9'"
   ]
  },
  {
   "cell_type": "markdown",
   "id": "4c80469e",
   "metadata": {},
   "source": [
    "## Exercise 3 :  Capitalise Heros"
   ]
  },
  {
   "cell_type": "code",
   "execution_count": 74,
   "id": "a52b80c9",
   "metadata": {},
   "outputs": [
    {
     "data": {
      "text/plain": [
       "{'Natasha Romanoff': 'BLACK WIDOW',\n",
       " 'Tony Stark': 'IRON MAN',\n",
       " 'Stephen Strange': 'DOCTOR STRANGE'}"
      ]
     },
     "execution_count": 74,
     "metadata": {},
     "output_type": "execute_result"
    }
   ],
   "source": [
    "superhero_info = {\"Natasha Romanoff\": \"Black Widow\",\n",
    "                  \"Tony Stark\": \"Iron Man\",\n",
    "                  \"Stephen Strange\": \"Doctor Strange\"\n",
    "                  }\n",
    "\n",
    "superhero_info['Tony Stark'] = superhero_info['Tony Stark'].upper()                  \n",
    "superhero_info['Natasha Romanoff'] = superhero_info['Natasha Romanoff'].upper()\n",
    "superhero_info['Stephen Strange'] = superhero_info['Stephen Strange'].upper()\n",
    "#if i am not wrong, the above lines make the associated values of each 'key' be in upper case?\n",
    "superhero_info"
   ]
  },
  {
   "cell_type": "markdown",
   "id": "11953f7c",
   "metadata": {},
   "source": [
    "## Exercise 4 :  How many ones"
   ]
  },
  {
   "cell_type": "code",
   "execution_count": 14,
   "id": "dd30eaff",
   "metadata": {},
   "outputs": [
    {
     "data": {
      "text/plain": [
       "9"
      ]
     },
     "execution_count": 14,
     "metadata": {},
     "output_type": "execute_result"
    }
   ],
   "source": [
    "numbers=[45, 60, 1, 30, 96, 1, 96, 57, 16, 1,\n",
    "        99, 62, 86, 43, 42, 60, 59, 1, 1, 35,\n",
    "        83, 47, 34, 28, 68, 23, 22, 92, 1, 79,\n",
    "        1, 29, 94, 72, 46, 47, 1, 74, 32, 20,\n",
    "        8, 37, 35, 1, 89, 29, 86, 19, 43, 61]                  \n",
    "\n",
    "np_array = np.array(numbers)\n",
    "np_array == 1   #this line is actually optional\n",
    "\n",
    "\n",
    "(np_array == 1).sum()\n",
    "\n",
    "#thus the number '1' appears 9 times"
   ]
  }
 ],
 "metadata": {
  "kernelspec": {
   "display_name": "Python 3 (ipykernel)",
   "language": "python",
   "name": "python3"
  },
  "language_info": {
   "codemirror_mode": {
    "name": "ipython",
    "version": 3
   },
   "file_extension": ".py",
   "mimetype": "text/x-python",
   "name": "python",
   "nbconvert_exporter": "python",
   "pygments_lexer": "ipython3",
   "version": "3.10.8"
  },
  "toc": {
   "base_numbering": 1,
   "nav_menu": {},
   "number_sections": true,
   "sideBar": true,
   "skip_h1_title": false,
   "title_cell": "Table of Contents",
   "title_sidebar": "Contents",
   "toc_cell": false,
   "toc_position": {},
   "toc_section_display": true,
   "toc_window_display": false
  },
  "varInspector": {
   "cols": {
    "lenName": 16,
    "lenType": 16,
    "lenVar": 40
   },
   "kernels_config": {
    "python": {
     "delete_cmd_postfix": "",
     "delete_cmd_prefix": "del ",
     "library": "var_list.py",
     "varRefreshCmd": "print(var_dic_list())"
    },
    "r": {
     "delete_cmd_postfix": ") ",
     "delete_cmd_prefix": "rm(",
     "library": "var_list.r",
     "varRefreshCmd": "cat(var_dic_list()) "
    }
   },
   "types_to_exclude": [
    "module",
    "function",
    "builtin_function_or_method",
    "instance",
    "_Feature"
   ],
   "window_display": false
  },
  "vscode": {
   "interpreter": {
    "hash": "31f2aee4e71d21fbe5cf8b01ff0e069b9275f58929596ceb00d14d90e3e16cd6"
   }
  }
 },
 "nbformat": 4,
 "nbformat_minor": 5
}
