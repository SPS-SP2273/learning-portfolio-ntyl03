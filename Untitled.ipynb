{
 "cells": [
  {
   "cell_type": "markdown",
   "id": "d64abb70",
   "metadata": {},
   "source": [
    "[SP2273 Website](https://sps.nus.edu.sg/sp2273)"
   ]
  },
  {
   "cell_type": "markdown",
   "id": "36bab633",
   "metadata": {},
   "source": [
    "![](https://nus.edu.sg/images/default-source/base/logo.png)"
   ]
  },
  {
   "cell_type": "markdown",
   "id": "fca71a41",
   "metadata": {},
   "source": [
    "![]\"C:\\Users\\ntyl1\\Pictures\\market for food.jpg\""
   ]
  },
  {
   "cell_type": "markdown",
   "id": "0b274a5f",
   "metadata": {},
   "source": [
    "![](\"C:\\Users\\ntyl1\\Pictures\\market for food.jpg\")"
   ]
  },
  {
   "cell_type": "markdown",
   "id": "1de09190",
   "metadata": {},
   "source": [
    "| A    |  B   |    C |\n",
    "| :--- | :--: | ---: |\n",
    "| a1   |  b1  |   c1 |\n",
    "| a2   |  b2  |   c2 |\n",
    "| a3   |  b3  |   c3 |"
   ]
  },
  {
   "cell_type": "markdown",
   "id": "7d878c7a",
   "metadata": {},
   "source": [
    "1. Master Yoda\n",
    "1. Luke SKYWALKER\n",
    "- master yoda\n",
    "- luke sykwalker"
   ]
  },
  {
   "cell_type": "markdown",
   "id": "314a9775",
   "metadata": {},
   "source": [
    "1. hi"
   ]
  },
  {
   "cell_type": "markdown",
   "id": "b8c23dc1",
   "metadata": {},
   "source": [
    "1. hi\n",
    "    1. hi\n"
   ]
  },
  {
   "cell_type": "code",
   "execution_count": 4,
   "id": "8d444306",
   "metadata": {},
   "outputs": [
    {
     "ename": "SyntaxError",
     "evalue": "invalid syntax (1472431535.py, line 1)",
     "output_type": "error",
     "traceback": [
      "\u001b[1;36m  Cell \u001b[1;32mIn[4], line 1\u001b[1;36m\u001b[0m\n\u001b[1;33m    1. hi\u001b[0m\n\u001b[1;37m       ^\u001b[0m\n\u001b[1;31mSyntaxError\u001b[0m\u001b[1;31m:\u001b[0m invalid syntax\n"
     ]
    }
   ],
   "source": [
    "1. hi"
   ]
  },
  {
   "cell_type": "markdown",
   "id": "e013621c",
   "metadata": {},
   "source": [
    "$\\sqrt{b^2-4ac}$"
   ]
  },
  {
   "cell_type": "code",
   "execution_count": null,
   "id": "5582520f",
   "metadata": {},
   "outputs": [],
   "source": []
  }
 ],
 "metadata": {
  "kernelspec": {
   "display_name": "Python 3 (ipykernel)",
   "language": "python",
   "name": "python3"
  },
  "language_info": {
   "codemirror_mode": {
    "name": "ipython",
    "version": 3
   },
   "file_extension": ".py",
   "mimetype": "text/x-python",
   "name": "python",
   "nbconvert_exporter": "python",
   "pygments_lexer": "ipython3",
   "version": "3.10.8"
  }
 },
 "nbformat": 4,
 "nbformat_minor": 5
}
